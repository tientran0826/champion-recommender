{
 "cells": [
  {
   "cell_type": "code",
   "execution_count": 1,
   "id": "8a87cdeb",
   "metadata": {},
   "outputs": [],
   "source": [
    "import pandas as pd\n",
    "import numpy as np\n",
    "import itertools\n",
    "import random\n",
    "from sklearn.model_selection import train_test_split"
   ]
  },
  {
   "cell_type": "markdown",
   "id": "8eea0da1",
   "metadata": {},
   "source": [
    "## Model Training"
   ]
  },
  {
   "cell_type": "markdown",
   "id": "53f2ab07",
   "metadata": {},
   "source": [
    "### 1. Dataset"
   ]
  },
  {
   "cell_type": "markdown",
   "id": "52b234c7",
   "metadata": {},
   "source": [
    "Matches data we can get from RIOT API. For more API detail, please access this link https://developer.riotgames.com/"
   ]
  },
  {
   "cell_type": "markdown",
   "id": "83d634bd",
   "metadata": {},
   "source": [
    "Our recommendation system will suggest one champion to the next drafting team, given a valid incomplete champion composition. (Here, valid means an incomplete composition that can actually occur during the drafting phase.)\n",
    "Note that in the drafting process, the two teams alternate in selecting champions following a “1-2-2-2-2-1” order, during which the champions already chosen are visible to both teams.\n",
    "\n",
    "Example: Team 1 picks first, then Team 2 will have two picks next."
   ]
  },
  {
   "cell_type": "code",
   "execution_count": 2,
   "id": "d0d4df04",
   "metadata": {},
   "outputs": [
    {
     "name": "stdout",
     "output_type": "stream",
     "text": [
      "Total matches: 20\n",
      "[(['Ahri', 'Lux', 'LeeSin', 'Ezreal', 'Thresh'], ['Zed', 'Kaisa', 'Nami', 'Riven', 'Yasuo'], True), (['Zed', 'Yasuo', 'Riven', 'Nami', 'Lux'], ['Ahri', 'LeeSin', 'Thresh', 'Ezreal', 'Kaisa'], False), (['Ahri', 'Lux', 'Ezreal', 'LeeSin', 'Thresh'], ['Zed', 'Kaisa', 'Nami', 'Riven', 'Yasuo'], True), (['Ahri', 'Lux', 'Ezreal', 'LeeSin', 'Thresh'], ['Zed', 'Kaisa', 'Nami', 'Riven', 'Yasuo'], True), (['Jinx', 'Lulu', 'Vi', 'Garen', 'Annie'], ['Ezreal', 'Lux', 'LeeSin', 'Thresh', 'Ahri'], False), (['Zed', 'Katarina', 'Yasuo', 'Riven', 'Nami'], ['Lux', 'Ezreal', 'Thresh', 'Vi', 'Annie'], True), (['Ahri', 'LeeSin', 'Garen', 'Ezreal', 'Thresh'], ['Zed', 'Riven', 'Kaisa', 'Lulu', 'Vi'], False), (['Lux', 'Ezreal', 'Thresh', 'Lulu', 'Jinx'], ['Zed', 'Yasuo', 'Nami', 'Riven', 'LeeSin'], True), (['Ahri', 'Kaisa', 'LeeSin', 'Vi', 'Thresh'], ['Lux', 'Ezreal', 'Jinx', 'Lulu', 'Nami'], True), (['Zed', 'Yasuo', 'Katarina', 'Vi', 'Riven'], ['Ahri', 'Lux', 'Ezreal', 'LeeSin', 'Thresh'], False), (['Ezreal', 'Lux', 'LeeSin', 'Thresh', 'Lulu'], ['Jinx', 'Nami', 'Vi', 'Riven', 'Yasuo'], False), (['Ahri', 'Ezreal', 'Thresh', 'Lulu', 'LeeSin'], ['Zed', 'Yasuo', 'Nami', 'Riven', 'Lux'], True), (['Jinx', 'Lulu', 'Vi', 'Annie', 'Garen'], ['Ezreal', 'Thresh', 'LeeSin', 'Lux', 'Ahri'], True), (['Ahri', 'Lux', 'Ezreal', 'LeeSin', 'Thresh'], ['Zed', 'Yasuo', 'Katarina', 'Vi', 'Riven'], False), (['Zed', 'Kaisa', 'Nami', 'Riven', 'Yasuo'], ['Ahri', 'Lux', 'Ezreal', 'LeeSin', 'Thresh'], False), (['Ahri', 'Jinx', 'Lulu', 'Vi', 'Thresh'], ['Zed', 'Katarina', 'Yasuo', 'Lux', 'Ezreal'], True), (['Ezreal', 'Thresh', 'Lux', 'Ahri', 'LeeSin'], ['Riven', 'Yasuo', 'Zed', 'Katarina', 'Vi'], True), (['Zed', 'Riven', 'Yasuo', 'Kaisa', 'Nami'], ['Lux', 'Ahri', 'Ezreal', 'LeeSin', 'Thresh'], False), (['Ahri', 'Lulu', 'Jinx', 'Vi', 'Garen'], ['Zed', 'Riven', 'Yasuo', 'Katarina', 'Nami'], True), (['Katarina', 'Zed', 'Riven', 'Yasuo', 'Nami'], ['Lux', 'Ahri', 'Ezreal', 'LeeSin', 'Thresh'], False)]\n"
     ]
    }
   ],
   "source": [
    "# Sample data after processing from RIOT API\n",
    "# Definition of matches\n",
    "matches = [\n",
    "    ([\"Ahri\", \"Lux\", \"LeeSin\", \"Ezreal\", \"Thresh\"], [\"Zed\", \"Kaisa\", \"Nami\", \"Riven\", \"Yasuo\"], True),\n",
    "    ([\"Zed\", \"Yasuo\", \"Riven\", \"Nami\", \"Lux\"], [\"Ahri\", \"LeeSin\", \"Thresh\", \"Ezreal\", \"Kaisa\"], False),\n",
    "    ([\"Ahri\", \"Lux\", \"Ezreal\", \"LeeSin\", \"Thresh\"], [\"Zed\", \"Kaisa\", \"Nami\", \"Riven\", \"Yasuo\"], True),\n",
    "    ([\"Ahri\", \"Lux\", \"Ezreal\", \"LeeSin\", \"Thresh\"], [\"Zed\", \"Kaisa\", \"Nami\", \"Riven\", \"Yasuo\"], True),\n",
    "    ([\"Jinx\", \"Lulu\", \"Vi\", \"Garen\", \"Annie\"], [\"Ezreal\", \"Lux\", \"LeeSin\", \"Thresh\", \"Ahri\"], False),\n",
    "    ([\"Zed\", \"Katarina\", \"Yasuo\", \"Riven\", \"Nami\"], [\"Lux\", \"Ezreal\", \"Thresh\", \"Vi\", \"Annie\"], True),\n",
    "    ([\"Ahri\", \"LeeSin\", \"Garen\", \"Ezreal\", \"Thresh\"], [\"Zed\", \"Riven\", \"Kaisa\", \"Lulu\", \"Vi\"], False),\n",
    "    ([\"Lux\", \"Ezreal\", \"Thresh\", \"Lulu\", \"Jinx\"], [\"Zed\", \"Yasuo\", \"Nami\", \"Riven\", \"LeeSin\"], True),\n",
    "    ([\"Ahri\", \"Kaisa\", \"LeeSin\", \"Vi\", \"Thresh\"], [\"Lux\", \"Ezreal\", \"Jinx\", \"Lulu\", \"Nami\"], True),\n",
    "    ([\"Zed\", \"Yasuo\", \"Katarina\", \"Vi\", \"Riven\"], [\"Ahri\", \"Lux\", \"Ezreal\", \"LeeSin\", \"Thresh\"], False),\n",
    "    ([\"Ezreal\", \"Lux\", \"LeeSin\", \"Thresh\", \"Lulu\"], [\"Jinx\", \"Nami\", \"Vi\", \"Riven\", \"Yasuo\"], False),\n",
    "    ([\"Ahri\", \"Ezreal\", \"Thresh\", \"Lulu\", \"LeeSin\"], [\"Zed\", \"Yasuo\", \"Nami\", \"Riven\", \"Lux\"], True),\n",
    "    ([\"Jinx\", \"Lulu\", \"Vi\", \"Annie\", \"Garen\"], [\"Ezreal\", \"Thresh\", \"LeeSin\", \"Lux\", \"Ahri\"], True),\n",
    "    ([\"Ahri\", \"Lux\", \"Ezreal\", \"LeeSin\", \"Thresh\"], [\"Zed\", \"Yasuo\", \"Katarina\", \"Vi\", \"Riven\"], False),\n",
    "    ([\"Zed\", \"Kaisa\", \"Nami\", \"Riven\", \"Yasuo\"], [\"Ahri\", \"Lux\", \"Ezreal\", \"LeeSin\", \"Thresh\"], False),\n",
    "    ([\"Ahri\", \"Jinx\", \"Lulu\", \"Vi\", \"Thresh\"], [\"Zed\", \"Katarina\", \"Yasuo\", \"Lux\", \"Ezreal\"], True),\n",
    "    ([\"Ezreal\", \"Thresh\", \"Lux\", \"Ahri\", \"LeeSin\"], [\"Riven\", \"Yasuo\", \"Zed\", \"Katarina\", \"Vi\"], True),\n",
    "    ([\"Zed\", \"Riven\", \"Yasuo\", \"Kaisa\", \"Nami\"], [\"Lux\", \"Ahri\", \"Ezreal\", \"LeeSin\", \"Thresh\"], False),\n",
    "    ([\"Ahri\", \"Lulu\", \"Jinx\", \"Vi\", \"Garen\"], [\"Zed\", \"Riven\", \"Yasuo\", \"Katarina\", \"Nami\"], True),\n",
    "    ([\"Katarina\", \"Zed\", \"Riven\", \"Yasuo\", \"Nami\"], [\"Lux\", \"Ahri\", \"Ezreal\", \"LeeSin\", \"Thresh\"], False),\n",
    "]\n",
    "\n",
    "print(f\"Total matches: {len(matches)}\")\n",
    "print(matches)"
   ]
  },
  {
   "cell_type": "markdown",
   "id": "112289e0",
   "metadata": {},
   "source": [
    "### 2. Approach Methodology"
   ]
  },
  {
   "cell_type": "markdown",
   "id": "f8f82312",
   "metadata": {},
   "source": [
    "#### 2.1 Naive association rule method using FP-Growth"
   ]
  },
  {
   "cell_type": "markdown",
   "id": "44c1f0ad",
   "metadata": {},
   "source": [
    "*(This method serves as a preliminary preference metric, please refer to the paper for more detailed explanations and formulations.)*"
   ]
  },
  {
   "cell_type": "markdown",
   "id": "36c6a9b3",
   "metadata": {},
   "source": [
    "#### 2.2  Synergy and counter relationship"
   ]
  },
  {
   "cell_type": "markdown",
   "id": "471c66a4",
   "metadata": {},
   "source": [
    "**Popularity**\n",
    "\n",
    "The popularity of a champion \\( c_k \\) is defined as:\n",
    "\n",
    "$$\n",
    "\\text{popularity}(c_k) = P(c_k \\in m[0] \\lor c_k \\in m[1])\n",
    "$$\n",
    "\n",
    "This represents how frequently a champion appears in any match, regardless of team.\n",
    "\n",
    "\n",
    "**Synergy Score**\n",
    "\n",
    "The synergy score between two champions \\( c_i \\) and \\( c_j \\) measures how often they win together when they are on the same team.\n",
    "\n",
    "$$\n",
    "\\text{synergy}(c_i, c_j) = \n",
    "\\frac{|\\{ m \\mid (c_i, c_j \\in m[0] \\land m[2] = \\text{True}) \\lor (c_i, c_j \\in m[1] \\land m[2] = \\text{False}) \\}|}\n",
    "{|\\{ m \\mid (c_i, c_j \\in m[0]) \\lor (c_i, c_j \\in m[1]) \\}|}\n",
    "$$\n",
    "\n",
    "Probability of winning given that both champions are on the same team.\n",
    "\n",
    "\n",
    "**Counter Score**\n",
    "\n",
    "The counter score measures how effective one champion \\( c_i \\) is against another \\( c_j \\).\n",
    "\n",
    "$$\n",
    "\\text{counter}(c_i \\to c_j) = \n",
    "\\frac{|\\{ m \\mid (c_i \\in m[0] \\land c_j \\in m[1] \\land m[2] = \\text{True}) \\lor (c_i \\in m[1] \\land c_j \\in m[0] \\land m[2] = \\text{False}) \\}|}\n",
    "{|\\{ m \\mid (c_i \\in m[0] \\land c_j \\in m[1]) \\lor (c_i \\in m[1] \\land c_j \\in m[0]) \\}|}\n",
    "$$\n",
    "\n",
    "Probability of winning given that \\( c_i \\) and \\( c_j \\) are on opposite teams.\n",
    "\n",
    "\n",
    "**Why Use These Metrics**\n",
    "\n",
    "Both synergy and counter are:\n",
    "\n",
    "- Normalized by popularity (avoids bias toward common champions)  \n",
    "- Interpretable as win probabilities  \n",
    "- More meaningful for champion recommendation than raw co-occurrence counts\n"
   ]
  },
  {
   "cell_type": "code",
   "execution_count": 3,
   "id": "58d06186",
   "metadata": {},
   "outputs": [],
   "source": [
    "class ChampionRelations:\n",
    "    def __init__(self, matches):\n",
    "        \"\"\"\n",
    "        Initialize the ChampionRelations object.\n",
    "        \n",
    "        Args:\n",
    "            matches (list): A list of match tuples in the form (team1, team2, team1_win)\n",
    "                            where:\n",
    "                              - team1, team2: lists or sets of champions\n",
    "                              - team1_win: boolean indicating if team1 won\n",
    "        \"\"\"\n",
    "        self.matches = matches\n",
    "\n",
    "    def synergy_score(self, ci, cj):\n",
    "        \"\"\"\n",
    "        Calculate the synergy score between two champions.\n",
    "        \n",
    "        Args:\n",
    "            ci (str): Champion i\n",
    "            cj (str): Champion j\n",
    "        \n",
    "        Returns:\n",
    "            float or None: Win rate when both champions are on the same team,\n",
    "                           or None if they never played together.\n",
    "        \"\"\"\n",
    "        total_same_team = 0\n",
    "        same_team_wins = 0\n",
    "\n",
    "        for team1, team2, team1_win in self.matches:\n",
    "            # Check if both are on the same team\n",
    "            if ci in team1 and cj in team1:\n",
    "                total_same_team += 1\n",
    "                if team1_win:\n",
    "                    same_team_wins += 1\n",
    "            elif ci in team2 and cj in team2:\n",
    "                total_same_team += 1\n",
    "                if not team1_win:\n",
    "                    same_team_wins += 1\n",
    "\n",
    "        if total_same_team == 0:\n",
    "            return None\n",
    "\n",
    "        return same_team_wins / total_same_team\n",
    "\n",
    "    def counter_score(self, ci, cj):\n",
    "        \"\"\"\n",
    "        Calculate the counter score between two champions.\n",
    "        \n",
    "        Args:\n",
    "            ci (str): Champion i\n",
    "            cj (str): Champion j\n",
    "        \n",
    "        Returns:\n",
    "            float or None: Win rate of ci against cj,\n",
    "                           or None if they never faced each other.\n",
    "        \"\"\"\n",
    "        total_opposed = 0\n",
    "        ci_wins_against_cj = 0\n",
    "\n",
    "        for team1, team2, team1_win in self.matches:\n",
    "            # ci in team1, cj in team2\n",
    "            if ci in team1 and cj in team2:\n",
    "                total_opposed += 1\n",
    "                if team1_win:\n",
    "                    ci_wins_against_cj += 1\n",
    "            # ci in team2, cj in team1\n",
    "            elif ci in team2 and cj in team1:\n",
    "                total_opposed += 1\n",
    "                if not team1_win:\n",
    "                    ci_wins_against_cj += 1\n",
    "\n",
    "        if total_opposed == 0:\n",
    "            return None\n",
    "\n",
    "        return ci_wins_against_cj / total_opposed"
   ]
  },
  {
   "cell_type": "code",
   "execution_count": 4,
   "id": "a809d906",
   "metadata": {},
   "outputs": [
    {
     "name": "stdout",
     "output_type": "stream",
     "text": [
      "Synergy between Ahri and Lux: 0.8181818181818182\n",
      "Synergy between Zed and Yasuo: 0.13333333333333333\n",
      "Counter score (Ahri vs Zed): 0.8571428571428571\n",
      "Counter score (Zed vs Ahri): 0.14285714285714285\n"
     ]
    }
   ],
   "source": [
    "# Apply on demo dataset\n",
    "relations = ChampionRelations(matches)\n",
    "\n",
    "print(\"Synergy between Ahri and Lux:\", relations.synergy_score(\"Ahri\", \"Lux\"))\n",
    "print(\"Synergy between Zed and Yasuo:\", relations.synergy_score(\"Zed\", \"Yasuo\"))\n",
    "print(\"Counter score (Ahri vs Zed):\", relations.counter_score(\"Ahri\", \"Zed\"))\n",
    "print(\"Counter score (Zed vs Ahri):\", relations.counter_score(\"Zed\", \"Ahri\"))"
   ]
  },
  {
   "cell_type": "markdown",
   "id": "7869a38b",
   "metadata": {},
   "source": [
    "=> However, this method is not optimized for large datasets containing a large number of champions."
   ]
  },
  {
   "cell_type": "markdown",
   "id": "43a527cf",
   "metadata": {},
   "source": [
    "**Optimize this synergy and counter calculation**"
   ]
  },
  {
   "cell_type": "markdown",
   "id": "4b0a65f6",
   "metadata": {},
   "source": [
    "The algorithm is proposed in paper"
   ]
  },
  {
   "cell_type": "markdown",
   "id": "2674f2af",
   "metadata": {},
   "source": [
    "<p align=\"center\">\n",
    "  <img src=\"../images/senergy_counter_algo.png\" width=\"600\">\n",
    "</p>\n"
   ]
  },
  {
   "cell_type": "code",
   "execution_count": 5,
   "id": "68bc4744",
   "metadata": {},
   "outputs": [],
   "source": [
    "class ChampionRelationsEfficient:\n",
    "    def __init__(self, matches):\n",
    "        \"\"\"\n",
    "        Initialize the ChampionRelationsEfficient object.\n",
    "        \n",
    "        Args:\n",
    "            matches (list): A list of tuples (team1, team2, team1_win)\n",
    "        \"\"\"\n",
    "        self.matches = matches\n",
    "        # Build the full unique champion list\n",
    "        champions = sorted({champ for t1, t2, _ in matches for champ in t1 + t2})\n",
    "        self.champ_index = {c: i for i, c in enumerate(champions)}\n",
    "        self.champions = champions\n",
    "        \n",
    "        # Initialize matrices\n",
    "        size = len(champions)\n",
    "        self.S = np.zeros((size, size), dtype=int)   # synergy wins\n",
    "        self.Ts = np.zeros((size, size), dtype=int)  # synergy total\n",
    "        self.C = np.zeros((size, size), dtype=int)   # counter wins\n",
    "        self.Tc = np.zeros((size, size), dtype=int)  # counter total\n",
    "\n",
    "    def calculate(self):\n",
    "        \"\"\"Compute synergy and counter for all champion pairs.\"\"\"\n",
    "        for team1, team2, team1_win in self.matches:\n",
    "            # Determine winner/loser teams\n",
    "            cwinner, closer = (team1, team2) if team1_win else (team2, team1)\n",
    "\n",
    "            # --- Synergy (same team) ---\n",
    "            for team in [cwinner, closer]:\n",
    "                for ca, cb in itertools.permutations(team, 2):\n",
    "                    a, b = self.champ_index[ca], self.champ_index[cb]\n",
    "                    self.Ts[a][b] += 1\n",
    "                    if team == cwinner:\n",
    "                        self.S[a][b] += 1\n",
    "\n",
    "            # --- Counter (winner vs loser) ---\n",
    "            for ca in cwinner:\n",
    "                for cb in closer:\n",
    "                    a, b = self.champ_index[ca], self.champ_index[cb]\n",
    "                    self.C[a][b] += 1  # winner beats loser\n",
    "                    self.Tc[a][b] += 1\n",
    "            for ca in closer:\n",
    "                for cb in cwinner:\n",
    "                    a, b = self.champ_index[ca], self.champ_index[cb]\n",
    "                    self.Tc[a][b] += 1  # total matchups\n",
    "\n",
    "        # Compute normalized matrices\n",
    "        synergy = np.divide(self.S, self.Ts, out=np.zeros_like(self.S, dtype=float), where=self.Ts != 0)\n",
    "        counter = np.divide(self.C, self.Tc, out=np.zeros_like(self.C, dtype=float), where=self.Tc != 0)\n",
    "\n",
    "        return synergy, counter\n",
    "\n",
    "    def get_synergy(self, ci, cj, synergy_matrix):\n",
    "        return synergy_matrix[self.champ_index[ci], self.champ_index[cj]]\n",
    "\n",
    "    def get_counter(self, ci, cj, counter_matrix):\n",
    "        return counter_matrix[self.champ_index[ci], self.champ_index[cj]]"
   ]
  },
  {
   "cell_type": "code",
   "execution_count": 6,
   "id": "e4085c36",
   "metadata": {},
   "outputs": [
    {
     "name": "stdout",
     "output_type": "stream",
     "text": [
      "Synergy(Ahri, Lux): 0.8181818181818182\n",
      "Counter(Ahri → Zed): 0.8571428571428571\n",
      "Counter(Zed → Ahri): 0.14285714285714285\n"
     ]
    }
   ],
   "source": [
    "# Apply on demo dataset\n",
    "relations = ChampionRelationsEfficient(matches)\n",
    "synergy_matrix, counter_matrix = relations.calculate()\n",
    "\n",
    "print(\"Synergy(Ahri, Lux):\", relations.get_synergy(\"Ahri\", \"Lux\", synergy_matrix))\n",
    "print(\"Counter(Ahri → Zed):\", relations.get_counter(\"Ahri\", \"Zed\", counter_matrix))\n",
    "print(\"Counter(Zed → Ahri):\", relations.get_counter(\"Zed\", \"Ahri\", counter_matrix))"
   ]
  },
  {
   "cell_type": "markdown",
   "id": "9678e894",
   "metadata": {},
   "source": [
    "## 3 Recommendation with Synergy and counter relationship approach"
   ]
  },
  {
   "cell_type": "markdown",
   "id": "e86efc26",
   "metadata": {},
   "source": [
    "### 3.1 Equally weighted sum"
   ]
  },
  {
   "cell_type": "markdown",
   "id": "fcdf144e",
   "metadata": {},
   "source": [
    "*(This method serves as a preliminary preference metric, please refer to the paper for more detailed explanations and formulations.)*"
   ]
  },
  {
   "cell_type": "markdown",
   "id": "0d0c6b96",
   "metadata": {},
   "source": [
    "### 3.2 Weighted average by sample size"
   ]
  },
  {
   "cell_type": "markdown",
   "id": "9c8ec721",
   "metadata": {},
   "source": [
    "In this approach, we improve upon the simple average method (Approach 1) by taking into account \n",
    "the reliability of each synergy and counter score. Some pairs of champions may have very few matches \n",
    "together (small sample size), which can lead to extreme or misleading win rates. To correct this, \n",
    "we weight each score by how many times that pairing actually occurred.\n",
    "\n",
    "The goal is to recommend a champion \\( c \\) that maximizes the following weighted average:\n",
    "\n",
    "$$\n",
    "\\underset{c \\in C, \\, c \\notin Allies, \\, c \\notin Opponents, \\, c \\notin Bans}{\\arg\\max}\n",
    "\\left(\n",
    "\\frac{\n",
    "\\sum_{a \\in Allies} \\text{synergy}(c,a) \\times T_S(c,a)\n",
    "+ \n",
    "\\sum_{o \\in Opponents} \\text{counter}(c,o) \\times T_C(c,o)\n",
    "}{\n",
    "\\sum_{a \\in Allies} T_S(c,a)\n",
    "+\n",
    "\\sum_{o \\in Opponents} T_C(c,o)\n",
    "}\n",
    "\\right)\n",
    "$$\n",
    "\n",
    "Where:\n",
    "\n",
    "| Symbol | Meaning |\n",
    "|:-------|:--------|\n",
    "| $ \\text{synergy}(c,a) $ | Win probability when champion $c$ and ally $a$ are on the same team |\n",
    "| $ \\text{counter}(c,o) $ | Win probability when champion $c$ faces opponent $o$ |\n",
    "| $ T_S(c,a) $ | Number of matches where $c$ and $a$ were on the same team |\n",
    "| $ T_C(c,o) $ | Number of matches where $c$ faced $o$ |\n",
    "| $ Allies, \\; Opponents, \\; Bans $ | Sets of currently selected or banned champions |\n",
    "\n",
    "This approach rewards champion pairs that have **more reliable historical data**.  \n",
    "For example, if a pair $(Ahri, Lux)$ has appeared together in 500 matches,  \n",
    "its synergy score contributes more than a rare pair $(Ahri, Rell)$ that only appeared 3 times.\n",
    "\n",
    "By weighting synergy and counter scores using $T_S$ and $T_C$,  \n",
    "the system avoids bias toward small-sample outliers and provides  \n",
    "a more stable and data-driven recommendation.\n",
    "\n",
    "-   Champions with consistent and strong historical synergy will rank higher.  \n",
    "-   Champions with proven advantage (high counter value) against the enemy team will be favored.  \n",
    "-   This approach balances both win probability **and** data reliability,  \n",
    "    giving a more robust recommendation result."
   ]
  },
  {
   "cell_type": "code",
   "execution_count": 7,
   "id": "ca564a7d",
   "metadata": {},
   "outputs": [],
   "source": [
    "class ChampionRecommender:\n",
    "    def __init__(self, relations):\n",
    "        \"\"\"\n",
    "        Args:\n",
    "            relations (ChampionRelationsEfficient): precomputed synergy and counter matrices.\n",
    "        \"\"\"\n",
    "        self.relations = relations\n",
    "\n",
    "    def recommend_weighted(self, allies, opponents, bans=None):\n",
    "        \"\"\"\n",
    "        Implement Approach 2: Weighted average by sample size.\n",
    "        \n",
    "        Args:\n",
    "            allies (list[str]): Current allied champions\n",
    "            opponents (list[str]): Current enemy champions\n",
    "            bans (list[str]): Champions that cannot be picked\n",
    "            \n",
    "        Returns:\n",
    "            (str, float): Recommended champion and its score\n",
    "        \"\"\"\n",
    "        if bans is None:\n",
    "            bans = []\n",
    "        \n",
    "        synergy = self.relations.S\n",
    "        counter = self.relations.C\n",
    "        Ts = self.relations.Ts\n",
    "        Tc = self.relations.Tc\n",
    "        champions = self.relations.champions\n",
    "        idx = self.relations.champ_index\n",
    "\n",
    "        best_champ = None\n",
    "        best_score = -np.inf\n",
    "\n",
    "        for c in champions:\n",
    "            if c in allies or c in opponents or c in bans:\n",
    "                continue\n",
    "\n",
    "            i = idx[c]\n",
    "\n",
    "            # Weighted sum\n",
    "            synergy_weighted = sum(\n",
    "                synergy[i][idx[a]] * Ts[i][idx[a]] for a in allies if Ts[i][idx[a]] > 0\n",
    "            )\n",
    "            counter_weighted = sum(\n",
    "                counter[i][idx[o]] * Tc[i][idx[o]] for o in opponents if Tc[i][idx[o]] > 0\n",
    "            )\n",
    "\n",
    "            # Denominator: total samples used\n",
    "            total_weight = sum(Ts[i][idx[a]] for a in allies) + sum(Tc[i][idx[o]] for o in opponents)\n",
    "\n",
    "            if total_weight == 0:\n",
    "                continue\n",
    "\n",
    "            score = (synergy_weighted + counter_weighted) / total_weight\n",
    "\n",
    "            if score > best_score:\n",
    "                best_score = score\n",
    "                best_champ = c\n",
    "\n",
    "        return best_champ, best_score"
   ]
  },
  {
   "cell_type": "code",
   "execution_count": 8,
   "id": "32bf5042",
   "metadata": {},
   "outputs": [
    {
     "name": "stdout",
     "output_type": "stream",
     "text": [
      "Recommended champion: Thresh (score=11.5955)\n"
     ]
    }
   ],
   "source": [
    "relations = ChampionRelationsEfficient(matches)\n",
    "synergy_matrix, counter_matrix = relations.calculate()\n",
    "\n",
    "recommender = ChampionRecommender(relations)\n",
    "\n",
    "allies = [\"Ahri\", \"Lux\", \"Ezreal\"]\n",
    "opponents = [\"Zed\", \"Yasuo\", \"Nami\"]\n",
    "bans = [\"LeeSin\"]\n",
    "\n",
    "best, score = recommender.recommend_weighted(allies, opponents, bans)\n",
    "print(f\"Recommended champion: {best} (score={score:.4f})\")"
   ]
  },
  {
   "cell_type": "markdown",
   "id": "1d0bd71e",
   "metadata": {},
   "source": [
    "## Evaluation"
   ]
  },
  {
   "cell_type": "markdown",
   "id": "0d998932",
   "metadata": {},
   "source": [
    "### 1. Supervised learning for match result prediction"
   ]
  },
  {
   "cell_type": "markdown",
   "id": "91ff3bc2",
   "metadata": {},
   "source": [
    "*(This method serves as a preliminary preference metric, please refer to the paper for more detailed explanations and formulations.)*"
   ]
  },
  {
   "cell_type": "markdown",
   "id": "c5e137e4",
   "metadata": {},
   "source": [
    "### 2. Measure of upper-hand based on synergies and counters - composite win rate (CWR)"
   ]
  },
  {
   "cell_type": "markdown",
   "id": "ed9c0065",
   "metadata": {},
   "source": [
    "**Model Evaluation using Composite Win Rate (CWR) and Upper-Hand**\n",
    "\n",
    "The model is evaluated based on how often its recommended champion leads to a lineup with a higher *composite win rate (CWR)* than the opponent team.\n",
    "\n",
    "**Composite Win Rate (CWR):**\n",
    "\n",
    "$$\n",
    "CWR(A, O) =\n",
    "\\frac{\n",
    "\\sum_{a_1 \\in A} \\sum_{a_2 \\in A, a_1 \\ne a_2} synergy(a_1, a_2)\n",
    "+ \n",
    "\\sum_{a \\in A} \\sum_{o \\in O} counter(o, a)\n",
    "}{\n",
    "\\binom{|A|}{2} + |A| \\times |O|\n",
    "}\n",
    "$$\n",
    "\n",
    "Where:\n",
    "- \\( A \\): allies\n",
    "- \\( O \\): opponents\n",
    "- \\( synergy(a_1, a_2) \\): win probability when both are on the same team  \n",
    "- \\( counter(o, a) \\): win probability when \\( a \\) faces \\( o \\)\n",
    "\n",
    "**Upper-Hand Metric:**\n",
    "\n",
    "$$\n",
    "upper\\text{-}hand(A, O) =\n",
    "\\begin{cases}\n",
    "1, & \\text{if } CWR(A, O) > CWR(O, A) \\\\\n",
    "0, & \\text{otherwise}\n",
    "\\end{cases}\n",
    "$$\n",
    "\n",
    "**Evaluation Steps:**\n",
    "1. Split the match data into **train** and **test** sets.  \n",
    "2. Compute **synergy** and **counter** matrices from both sets.  \n",
    "3. Simulate the drafting process:\n",
    "   - Randomly pick a champion for the opponent team.  \n",
    "   - Recommend an ally champion using the model.  \n",
    "4. Repeat until both lineups are full.  \n",
    "5. Compute \\( CWR(A, O) \\) and \\( CWR(O, A) \\) using test data.  \n",
    "6. Assign `upper-hand = 1` if allies’ CWR is higher.  \n",
    "7. Repeat for many simulations to compute the **average upper-hand**.\n",
    "\n",
    "**Interpretation:**\n",
    "- Average upper-hand > 0.5 → the model consistently builds stronger lineups.  \n",
    "- The higher the value, the more effective the recommendation system.\n"
   ]
  },
  {
   "cell_type": "code",
   "execution_count": 9,
   "id": "7581718c",
   "metadata": {},
   "outputs": [],
   "source": [
    "import numpy as np\n",
    "\n",
    "class Evaluation:\n",
    "    def __init__(self, synergy_train, counter_train, champion_to_idx):\n",
    "        # Only use matrices learned from training data\n",
    "        self.synergy_train = synergy_train\n",
    "        self.counter_train = counter_train\n",
    "        self.champion_to_idx = champion_to_idx\n",
    "\n",
    "    def compute_cwr(self, team_A, team_O):\n",
    "        \"\"\"Compute Composite Win Rate (CWR) for team_A against team_O using train matrices.\"\"\"\n",
    "        synergy_matrix = self.synergy_train\n",
    "        counter_matrix = self.counter_train\n",
    "\n",
    "        idx = self.champion_to_idx\n",
    "        n_A = len(team_A)\n",
    "        n_O = len(team_O)\n",
    "\n",
    "        # Synergy term: how well allies work together\n",
    "        synergy_sum = 0\n",
    "        for i in range(n_A):\n",
    "            for j in range(i + 1, n_A):\n",
    "                a1, a2 = team_A[i], team_A[j]\n",
    "                synergy_sum += synergy_matrix[idx[a1], idx[a2]]\n",
    "\n",
    "        # Counter term: how well allies counter opponents\n",
    "        counter_sum = 0\n",
    "        for a in team_A:\n",
    "            for o in team_O:\n",
    "                counter_sum += counter_matrix[idx[a], idx[o]]\n",
    "\n",
    "        denominator = (n_A * (n_A - 1) / 2) + (n_A * n_O)\n",
    "        return (synergy_sum + counter_sum) / denominator if denominator > 0 else 0.0\n",
    "\n",
    "    def compute_upper_hand(self, team_A, team_O):\n",
    "        \"\"\"Return 1 if team_A predicted to win (CWR higher using train data).\"\"\"\n",
    "        cwr_A = self.compute_cwr(team_A, team_O)\n",
    "        cwr_O = self.compute_cwr(team_O, team_A)\n",
    "        return 1 if cwr_A > cwr_O else 0"
   ]
  },
  {
   "cell_type": "code",
   "execution_count": 10,
   "id": "a441c637",
   "metadata": {},
   "outputs": [],
   "source": [
    "class EvaluatorPipeline:\n",
    "    def __init__(self, matches, ChampionRelationsEfficient, ChampionRecommender, Evaluation, test_size=0.2, random_state=42):\n",
    "        \"\"\"\n",
    "        Full evaluation pipeline for synergy/counter-based champion recommendation.\n",
    "\n",
    "        Args:\n",
    "            matches: list of (team1, team2, team1_win) tuples\n",
    "            ChampionRelationsEfficient: class used to build synergy/counter matrices\n",
    "            ChampionRecommender: recommender class (trained from relations)\n",
    "            Evaluation: class to compute CWR and upper-hand metrics\n",
    "            test_size: fraction of matches for testing\n",
    "            random_state: reproducibility seed\n",
    "        \"\"\"\n",
    "        self.matches = matches\n",
    "        self.ChampionRelationsEfficient = ChampionRelationsEfficient\n",
    "        self.ChampionRecommender = ChampionRecommender\n",
    "        self.Evaluation = Evaluation\n",
    "        self.test_size = test_size\n",
    "        self.random_state = random_state\n",
    "\n",
    "    def run(self):\n",
    "        \"\"\"Run full pipeline: split, train, recommend, and evaluate.\"\"\"\n",
    "        # 1️ Split train/test\n",
    "        train_matches, test_matches = train_test_split(\n",
    "            self.matches, test_size=self.test_size, random_state=self.random_state\n",
    "        )\n",
    "\n",
    "        # 2️ Build relations on training data\n",
    "        relations_train = self.ChampionRelationsEfficient(train_matches)\n",
    "        synergy_train, counter_train = relations_train.calculate()\n",
    "\n",
    "        # 3️ Create recommender trained on train data\n",
    "        recommender = self.ChampionRecommender(relations_train)\n",
    "\n",
    "        # 4️ Create evaluator (only train matrices are needed)\n",
    "        evaluator = self.Evaluation(\n",
    "            synergy_train, counter_train, relations_train.champ_index\n",
    "        )\n",
    "\n",
    "        # 5️Evaluate on test matches\n",
    "        results_upper = []\n",
    "        results_match_pick_matches_actual = []\n",
    "        results_cwr_gain = []\n",
    "\n",
    "        all_champs = list(relations_train.champ_index.keys())\n",
    "\n",
    "        for m in test_matches:\n",
    "            team1, team2, team1_win = m\n",
    "\n",
    "            # Evaluate both perspectives (team1 vs team2, and vice versa)\n",
    "            for allies_full, opponents in [(team1, team2), (team2, team1)]:\n",
    "                if len(allies_full) < 5 or len(opponents) < 5:\n",
    "                    continue\n",
    "\n",
    "                removed_idx = random.randrange(len(allies_full))\n",
    "                actual_missing = allies_full[removed_idx]\n",
    "                allies_partial = [c for i, c in enumerate(allies_full) if i != removed_idx]\n",
    "                bans = []\n",
    "\n",
    "                # Try recommending\n",
    "                try:\n",
    "                    recommended, score = recommender.recommend_weighted(allies_partial, opponents, bans)\n",
    "                except Exception:\n",
    "                    # fallback random pick if recommender fails\n",
    "                    available = [c for c in all_champs if c not in allies_partial + opponents + bans]\n",
    "                    recommended = random.choice(available) if available else None\n",
    "                    score = None\n",
    "\n",
    "                if recommended is None:\n",
    "                    continue\n",
    "\n",
    "                allies_with_reco = allies_partial + [recommended]\n",
    "\n",
    "                # Evaluate predicted advantage\n",
    "                upper = evaluator.compute_upper_hand(allies_with_reco, opponents)\n",
    "                results_upper.append(upper)\n",
    "\n",
    "                # Check if prediction matches actual missing champ\n",
    "                results_match_pick_matches_actual.append(1 if recommended == actual_missing else 0)\n",
    "\n",
    "                # Compute improvement in team CWR\n",
    "                cwr_before = evaluator.compute_cwr(allies_partial, opponents)\n",
    "                cwr_after = evaluator.compute_cwr(allies_with_reco, opponents)\n",
    "                results_cwr_gain.append(cwr_after - cwr_before)\n",
    "\n",
    "        # 6Aggregate results\n",
    "        avg_upper_hand = np.mean(results_upper) if results_upper else float(\"nan\")\n",
    "        match_pick_accuracy = np.mean(results_match_pick_matches_actual) if results_match_pick_matches_actual else float(\"nan\")\n",
    "        avg_cwr_gain = np.mean(results_cwr_gain) if results_cwr_gain else float(\"nan\")\n",
    "\n",
    "        print(\"\\nEvaluation Summary\")\n",
    "        print(\"----------------------------\")\n",
    "        print(f\"Evaluated picks: {len(results_upper)}\")\n",
    "        print(f\"Average Upper-Hand: {avg_upper_hand:.4f}\")\n",
    "        print(f\"Match Pick Accuracy: {match_pick_accuracy:.4f}\")\n",
    "        print(f\"Average CWR Gain: {avg_cwr_gain:.4f}\")\n",
    "\n",
    "        return {\n",
    "            \"evaluated_picks\": len(results_upper),\n",
    "            \"avg_upper_hand\": avg_upper_hand,\n",
    "            \"match_pick_accuracy\": match_pick_accuracy,\n",
    "            \"avg_cwr_gain\": avg_cwr_gain,\n",
    "        }"
   ]
  },
  {
   "cell_type": "code",
   "execution_count": 16,
   "id": "fc4f15ed",
   "metadata": {},
   "outputs": [
    {
     "name": "stdout",
     "output_type": "stream",
     "text": [
      "\n",
      "Evaluation Summary\n",
      "----------------------------\n",
      "Evaluated picks: 4\n",
      "Average Upper-Hand: 0.5000\n",
      "Match Pick Accuracy: 0.5000\n",
      "Average CWR Gain: 0.0491\n"
     ]
    }
   ],
   "source": [
    "evaluator = EvaluatorPipeline(\n",
    "    matches,\n",
    "    ChampionRelationsEfficient,\n",
    "    ChampionRecommender,\n",
    "    Evaluation,\n",
    "    test_size=0.1\n",
    ")\n",
    "evaluation = evaluator.run()"
   ]
  },
  {
   "cell_type": "code",
   "execution_count": null,
   "id": "d32531f8",
   "metadata": {},
   "outputs": [],
   "source": []
  }
 ],
 "metadata": {
  "kernelspec": {
   "display_name": "champion-recommender-project-_guzB7jL-py3.12",
   "language": "python",
   "name": "python3"
  },
  "language_info": {
   "codemirror_mode": {
    "name": "ipython",
    "version": 3
   },
   "file_extension": ".py",
   "mimetype": "text/x-python",
   "name": "python",
   "nbconvert_exporter": "python",
   "pygments_lexer": "ipython3",
   "version": "3.12.10"
  }
 },
 "nbformat": 4,
 "nbformat_minor": 5
}
